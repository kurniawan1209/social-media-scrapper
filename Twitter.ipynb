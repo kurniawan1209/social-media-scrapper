{
 "cells": [
  {
   "cell_type": "code",
   "execution_count": 1,
   "id": "6ef5d487",
   "metadata": {},
   "outputs": [],
   "source": [
    "%config Completer.use_jedi = False"
   ]
  },
  {
   "cell_type": "markdown",
   "id": "a75b600d",
   "metadata": {},
   "source": [
    "## IMPORT PACKAGES"
   ]
  },
  {
   "cell_type": "code",
   "execution_count": 6,
   "id": "2033c231",
   "metadata": {},
   "outputs": [],
   "source": [
    "import re\n",
    "import time\n",
    "\n",
    "from bs4 import BeautifulSoup\n",
    "from selenium import webdriver\n",
    "from selenium.webdriver.common.by import By"
   ]
  },
  {
   "cell_type": "markdown",
   "id": "56b85707",
   "metadata": {},
   "source": [
    "## SETUP DRIVER"
   ]
  },
  {
   "cell_type": "code",
   "execution_count": 3,
   "id": "05e6e315",
   "metadata": {},
   "outputs": [],
   "source": [
    "driver = webdriver.Chrome(\"chromedriver.exe\")\n",
    "driver.get(\"https://twitter.com/i/flow/login\")"
   ]
  },
  {
   "cell_type": "markdown",
   "id": "c09efec8",
   "metadata": {},
   "source": [
    "## LOGIN PROCESS"
   ]
  },
  {
   "cell_type": "code",
   "execution_count": 4,
   "id": "59a5a21e",
   "metadata": {},
   "outputs": [],
   "source": [
    "USERNAME = \"003Temp5319\"\n",
    "PASSWORD = \"kurni_temp003\""
   ]
  },
  {
   "cell_type": "code",
   "execution_count": 7,
   "id": "ed6b2dc4",
   "metadata": {},
   "outputs": [],
   "source": [
    "username = driver.find_element(By.XPATH, \"//input[@autocomplete='username']\")"
   ]
  },
  {
   "cell_type": "code",
   "execution_count": 8,
   "id": "fcc0340d",
   "metadata": {},
   "outputs": [],
   "source": [
    "username.send_keys(USERNAME)"
   ]
  },
  {
   "cell_type": "code",
   "execution_count": 9,
   "id": "f9db3cc7",
   "metadata": {},
   "outputs": [],
   "source": [
    "driver.find_element(By.XPATH, \"//span[text()='Next']\").click()"
   ]
  },
  {
   "cell_type": "markdown",
   "id": "4e8755ec",
   "metadata": {},
   "source": [
    "## IF There Is Unusual Login Activity"
   ]
  },
  {
   "cell_type": "code",
   "execution_count": 37,
   "id": "a882aa59",
   "metadata": {},
   "outputs": [],
   "source": [
    "phone_or_username = driver.find_element(By.XPATH, \"//input[@data-testid='ocfEnterTextTextInput']\")"
   ]
  },
  {
   "cell_type": "code",
   "execution_count": 40,
   "id": "60b79e4a",
   "metadata": {},
   "outputs": [
    {
     "ename": "TypeError",
     "evalue": "WebElement.get_attribute() missing 1 required positional argument: 'name'",
     "output_type": "error",
     "traceback": [
      "\u001b[1;31m---------------------------------------------------------------------------\u001b[0m",
      "\u001b[1;31mTypeError\u001b[0m                                 Traceback (most recent call last)",
      "Cell \u001b[1;32mIn[40], line 1\u001b[0m\n\u001b[1;32m----> 1\u001b[0m \u001b[43mphone_or_username\u001b[49m\u001b[38;5;241;43m.\u001b[39;49m\u001b[43mget_attribute\u001b[49m\u001b[43m(\u001b[49m\u001b[43m)\u001b[49m\n",
      "\u001b[1;31mTypeError\u001b[0m: WebElement.get_attribute() missing 1 required positional argument: 'name'"
     ]
    }
   ],
   "source": [
    "phone_or_username.send"
   ]
  },
  {
   "cell_type": "markdown",
   "id": "091dafd2",
   "metadata": {},
   "source": [
    "## PASSWORD"
   ]
  },
  {
   "cell_type": "code",
   "execution_count": 10,
   "id": "6e23de1a",
   "metadata": {},
   "outputs": [],
   "source": [
    "password = driver.find_element(By.XPATH, \"//input[@name='password']\")"
   ]
  },
  {
   "cell_type": "code",
   "execution_count": 11,
   "id": "d48bfd43",
   "metadata": {},
   "outputs": [],
   "source": [
    "password.send_keys(PASSWORD)"
   ]
  },
  {
   "cell_type": "code",
   "execution_count": 12,
   "id": "6fbb8c4e",
   "metadata": {},
   "outputs": [],
   "source": [
    "driver.find_element(By.XPATH, \"//div[@data-testid='LoginForm_Login_Button']\").click()"
   ]
  },
  {
   "cell_type": "markdown",
   "id": "7a8ae882",
   "metadata": {},
   "source": [
    "## IF THER IS PAGE LOADED BEFORE LOAD A HOME PAGE\n",
    "use try except to handle"
   ]
  },
  {
   "cell_type": "code",
   "execution_count": 82,
   "id": "5447b534",
   "metadata": {},
   "outputs": [],
   "source": [
    "before_home = driver.find_element(By.XPATH, \"//div[@data-testid='sheetDialog']\")"
   ]
  },
  {
   "cell_type": "code",
   "execution_count": 83,
   "id": "c5b5aa8c",
   "metadata": {},
   "outputs": [
    {
     "data": {
      "text/plain": [
       "<selenium.webdriver.remote.webelement.WebElement (session=\"f803763349e6bf1deddcfe0d7d7818ae\", element=\"EB185E0B651088F775A239E46B31E3CA_element_61\")>"
      ]
     },
     "execution_count": 83,
     "metadata": {},
     "output_type": "execute_result"
    }
   ],
   "source": [
    "before_home"
   ]
  },
  {
   "cell_type": "code",
   "execution_count": 84,
   "id": "ae263ff2",
   "metadata": {},
   "outputs": [],
   "source": [
    "button_close_before_home = driver.find_element(By.XPATH, \"//div[@data-testid='app-bar-close']\").click()"
   ]
  },
  {
   "cell_type": "markdown",
   "id": "b613b0d0",
   "metadata": {},
   "source": [
    "## SEARCH FOR TEXT (IF THERE IS SEARCH BAR)"
   ]
  },
  {
   "cell_type": "code",
   "execution_count": 31,
   "id": "12bcf18c",
   "metadata": {},
   "outputs": [],
   "source": [
    "driver.get(\"https://twitter.com/explore\")"
   ]
  },
  {
   "cell_type": "markdown",
   "id": "804854d4",
   "metadata": {},
   "source": [
    "## SEARCH FOR TEXT (IF FULL SIZE WINDOW)"
   ]
  },
  {
   "cell_type": "code",
   "execution_count": 33,
   "id": "cdb56a65",
   "metadata": {},
   "outputs": [],
   "source": [
    "search_box = driver.find_element(By.XPATH, \"//input[@data-testid='SearchBox_Search_Input']\")"
   ]
  },
  {
   "cell_type": "markdown",
   "id": "6b74071a",
   "metadata": {},
   "source": [
    "## SEARCH BOX"
   ]
  },
  {
   "cell_type": "markdown",
   "id": "d24959db",
   "metadata": {},
   "source": [
    "#Pemilu2024 <br>\n",
    "#Pilpres2024 <br>\n",
    "#Capres2024 <br>\n",
    "#PemiluSerentak2024 <br>\n",
    "#Pemilu2024SesuaiTahapan"
   ]
  },
  {
   "cell_type": "code",
   "execution_count": 34,
   "id": "103373a9",
   "metadata": {},
   "outputs": [],
   "source": [
    "search_box.send_keys(\"#Pemilu2024\")"
   ]
  },
  {
   "cell_type": "code",
   "execution_count": 35,
   "id": "ceabbeb3",
   "metadata": {},
   "outputs": [],
   "source": [
    "search_box.submit()"
   ]
  },
  {
   "cell_type": "markdown",
   "id": "c7bdd901",
   "metadata": {},
   "source": [
    "## GET LIST OF POST ARE LOADED"
   ]
  },
  {
   "cell_type": "code",
   "execution_count": 22,
   "id": "e2a2e560",
   "metadata": {},
   "outputs": [],
   "source": [
    "page = driver.page_source"
   ]
  },
  {
   "cell_type": "code",
   "execution_count": 23,
   "id": "8ad67a27",
   "metadata": {},
   "outputs": [],
   "source": [
    "pattern = re.compile(r'href=\"/[A-Za-z0-9_]*/status/\\d+\"')"
   ]
  },
  {
   "cell_type": "code",
   "execution_count": 24,
   "id": "5e5dabac",
   "metadata": {},
   "outputs": [
    {
     "data": {
      "text/plain": [
       "['href=\"/darimatasangga1/status/1672161419268169728\"',\n",
       " 'href=\"/HGirmanSTMM/status/1672161389073559553\"',\n",
       " 'href=\"/darimatasangga1/status/1672161387919945728\"']"
      ]
     },
     "execution_count": 24,
     "metadata": {},
     "output_type": "execute_result"
    }
   ],
   "source": [
    "pattern.findall(page)"
   ]
  },
  {
   "cell_type": "markdown",
   "id": "9c7c9004",
   "metadata": {},
   "source": [
    "## SCROLLING AND GET ALL LINK"
   ]
  },
  {
   "cell_type": "code",
   "execution_count": 36,
   "id": "75e2bce4",
   "metadata": {},
   "outputs": [],
   "source": [
    "TOTAL_DATA = 50"
   ]
  },
  {
   "cell_type": "code",
   "execution_count": 37,
   "id": "027e0d07",
   "metadata": {},
   "outputs": [],
   "source": [
    "TWEET_LIST = []"
   ]
  },
  {
   "cell_type": "code",
   "execution_count": 38,
   "id": "d88f0882",
   "metadata": {},
   "outputs": [
    {
     "name": "stdout",
     "output_type": "stream",
     "text": [
      "Ini loop ke-31\r"
     ]
    }
   ],
   "source": [
    "initialScroll = 0\n",
    "finalScroll = 1000\n",
    "\n",
    "count = 0\n",
    "\n",
    "pattern = re.compile(r'href=\"/[A-Za-z0-9_]*/status/\\d+\"')\n",
    "\n",
    "while True:\n",
    "    driver.execute_script(f\"window.scrollTo({initialScroll},{finalScroll})\")\n",
    "    \n",
    "    time.sleep(10)\n",
    "    \n",
    "    tweets = pattern.findall(driver.page_source)\n",
    "    \n",
    "    initialScroll = finalScroll\n",
    "    finalScroll += 1000\n",
    "    \n",
    "    [TWEET_LIST.append(tweet) for tweet in tweets if tweet not in TWEET_LIST]\n",
    "    \n",
    "    count += 1\n",
    "    print(f\"Ini loop ke-{count}\", end=\"\\r\")\n",
    "    \n",
    "    if len(TWEET_LIST) >= TOTAL_DATA:\n",
    "        break"
   ]
  },
  {
   "cell_type": "code",
   "execution_count": 40,
   "id": "a6769451",
   "metadata": {},
   "outputs": [],
   "source": [
    "NEW_TWEET_LIST = TWEET_LIST.copy()"
   ]
  },
  {
   "cell_type": "code",
   "execution_count": 41,
   "id": "82f1ab94",
   "metadata": {},
   "outputs": [],
   "source": [
    "def clean_href(link):\n",
    "    link = link.replace('\"', \"\")\n",
    "    return link.replace(\"href=\", \"\")"
   ]
  },
  {
   "cell_type": "code",
   "execution_count": 43,
   "id": "5cde26f0",
   "metadata": {},
   "outputs": [],
   "source": [
    "new_tweet_list = list(map(clean_href, NEW_TWEET_LIST))"
   ]
  },
  {
   "cell_type": "code",
   "execution_count": 44,
   "id": "7cb755b4",
   "metadata": {},
   "outputs": [
    {
     "data": {
      "text/plain": [
       "['/langenrakyat/status/1672173449694027776',\n",
       " '/derryakbr/status/1672171794227425280',\n",
       " '/AngsaPuty/status/1672172570609848321',\n",
       " '/punggawabangsa/status/1672171533438185472',\n",
       " '/GraceKeana/status/1672170611723091968',\n",
       " '/DPP_PKB/status/1671338100516356096',\n",
       " '/_CayoPerico/status/1669540592794374147',\n",
       " '/surpram01/status/1672166108315656193',\n",
       " '/na_nurularifin/status/1669290269186068480',\n",
       " '/PartaiPerindo/status/1669364403245060096',\n",
       " '/PartaiPerindo/status/1671003977234915328',\n",
       " '/ZAEffendy/status/1670572161839542272',\n",
       " '/mypresidentid/status/1669540802576662529',\n",
       " '/rakyatmenanti_/status/1672162694718459904',\n",
       " '/NasDem/status/1669227609509736448',\n",
       " '/Ginette94319062/status/1672032971824717824',\n",
       " '/Ganjaran_app/status/1671739170149273602',\n",
       " '/CeMinor7/status/1669553628162715648',\n",
       " '/surupsrengenge/status/1672153663538888704',\n",
       " '/Ganjaran_app/status/1670695410212700160',\n",
       " '/VegaLiana2/status/1668857106097913858',\n",
       " '/Metro_TV/status/1672088072840974337',\n",
       " '/ShandiNugroho95/status/1668980075604193280',\n",
       " '/Metro_TV/status/1672161354327949312',\n",
       " '/HGirmanSTMM/status/1672161389073559553',\n",
       " '/txtdengardulu/status/1671330142231359488',\n",
       " '/Ganjaran_app/status/1671744824481914882',\n",
       " '/prakasitaaah/status/1672128463631978496',\n",
       " '/ceklissatucom/status/1671413921453051905',\n",
       " '/Metro_TV/status/1672161979782557696',\n",
       " '/RiantiDila1/status/1672124240911552512',\n",
       " '/RiantiDila1/status/1672124401524039682',\n",
       " '/RiantiDila1/status/1672124336659132416',\n",
       " '/q4d1qvwhuul5e/status/1672033173503627264',\n",
       " '/JoshuaSasono/status/1669828700798595072',\n",
       " '/JoshuaSasono/status/1669828911440732160',\n",
       " '/JoshuaSasono/status/1669828827886006272',\n",
       " '/JoshuaSasono/status/1669828560750792704',\n",
       " '/Metro_TV/status/1672154352646234113',\n",
       " '/Metro_TV/status/1671699948071690240',\n",
       " '/RiantiDila1/status/1671384384077963264',\n",
       " '/hanifa_keysa/status/1672075871061176324',\n",
       " '/hanifa_keysa/status/1672075621441343495',\n",
       " '/Ganjaran_app/status/1670672762048851969',\n",
       " '/hanifa_keysa/status/1672069838540525568',\n",
       " '/VegaLiana2/status/1670662545697558529',\n",
       " '/VegaLiana2/status/1670662395499528192',\n",
       " '/RiantiDila1/status/1671384734474334208',\n",
       " '/ProKaltim/status/1669836781834080256',\n",
       " '/MIRATIPRIMASARI/status/1670228615316000768']"
      ]
     },
     "execution_count": 44,
     "metadata": {},
     "output_type": "execute_result"
    }
   ],
   "source": [
    "new_tweet_list"
   ]
  },
  {
   "cell_type": "markdown",
   "id": "76ffa574",
   "metadata": {},
   "source": [
    "## GET TWEET DETAIL"
   ]
  },
  {
   "cell_type": "code",
   "execution_count": 50,
   "id": "6bdf6e83",
   "metadata": {},
   "outputs": [],
   "source": [
    "BASE_URL = \"https://twitter.com\""
   ]
  },
  {
   "cell_type": "code",
   "execution_count": 51,
   "id": "f6d38a10",
   "metadata": {},
   "outputs": [],
   "source": [
    "link = BASE_URL + new_tweet_list[0]"
   ]
  },
  {
   "cell_type": "code",
   "execution_count": 53,
   "id": "f17bca83",
   "metadata": {},
   "outputs": [],
   "source": [
    "driver.get(link)"
   ]
  },
  {
   "cell_type": "code",
   "execution_count": null,
   "id": "6f3fbdbd",
   "metadata": {},
   "outputs": [],
   "source": []
  }
 ],
 "metadata": {
  "kernelspec": {
   "display_name": "Python 3 (ipykernel)",
   "language": "python",
   "name": "python3"
  },
  "language_info": {
   "codemirror_mode": {
    "name": "ipython",
    "version": 3
   },
   "file_extension": ".py",
   "mimetype": "text/x-python",
   "name": "python",
   "nbconvert_exporter": "python",
   "pygments_lexer": "ipython3",
   "version": "3.10.9"
  }
 },
 "nbformat": 4,
 "nbformat_minor": 5
}
