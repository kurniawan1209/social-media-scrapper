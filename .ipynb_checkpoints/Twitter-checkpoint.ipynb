{
 "cells": [
  {
   "cell_type": "code",
   "execution_count": 2,
   "id": "6ef5d487",
   "metadata": {},
   "outputs": [],
   "source": [
    "%config Completer.use_jedi = False"
   ]
  },
  {
   "cell_type": "markdown",
   "id": "a75b600d",
   "metadata": {},
   "source": [
    "## IMPORT PACKAGES"
   ]
  },
  {
   "cell_type": "code",
   "execution_count": 3,
   "id": "2033c231",
   "metadata": {},
   "outputs": [],
   "source": [
    "import json\n",
    "import m3u8\n",
    "import os\n",
    "import re\n",
    "import requests\n",
    "import shutil\n",
    "import urllib\n",
    "\n",
    "from bs4 import BeautifulSoup\n",
    "from datetime import datetime\n",
    "from ffmpeg import FFmpeg\n",
    "from pathlib import Path\n",
    "from selenium import webdriver\n",
    "from selenium.webdriver.common.by import By"
   ]
  },
  {
   "cell_type": "markdown",
   "id": "56b85707",
   "metadata": {},
   "source": [
    "## SETUP DRIVER"
   ]
  },
  {
   "cell_type": "code",
   "execution_count": 4,
   "id": "05e6e315",
   "metadata": {},
   "outputs": [],
   "source": [
    "driver = webdriver.Chrome(\"chromedriver.exe\")\n",
    "driver.get(\"https://twitter.com/i/flow/login\")"
   ]
  },
  {
   "cell_type": "markdown",
   "id": "c09efec8",
   "metadata": {},
   "source": [
    "## LOGIN PROCESS"
   ]
  },
  {
   "cell_type": "code",
   "execution_count": 5,
   "id": "59a5a21e",
   "metadata": {},
   "outputs": [],
   "source": [
    "USERNAME = \"003Temp5319\"\n",
    "PASSWORD = \"kurni_temp003\""
   ]
  },
  {
   "cell_type": "code",
   "execution_count": 6,
   "id": "ed6b2dc4",
   "metadata": {},
   "outputs": [],
   "source": [
    "username = driver.find_element(By.XPATH, \"//input[@autocomplete='username']\")"
   ]
  },
  {
   "cell_type": "code",
   "execution_count": 7,
   "id": "fcc0340d",
   "metadata": {},
   "outputs": [],
   "source": [
    "username.send_keys(USERNAME)"
   ]
  },
  {
   "cell_type": "code",
   "execution_count": 8,
   "id": "f9db3cc7",
   "metadata": {},
   "outputs": [],
   "source": [
    "driver.find_element(By.XPATH, \"//span[text()='Next']\").click()"
   ]
  },
  {
   "cell_type": "markdown",
   "id": "4e8755ec",
   "metadata": {},
   "source": [
    "## IF There Is Unusual Login Activity"
   ]
  },
  {
   "cell_type": "code",
   "execution_count": 37,
   "id": "a882aa59",
   "metadata": {},
   "outputs": [],
   "source": [
    "phone_or_username = driver.find_element(By.XPATH, \"//input[@data-testid='ocfEnterTextTextInput']\")"
   ]
  },
  {
   "cell_type": "code",
   "execution_count": 40,
   "id": "60b79e4a",
   "metadata": {},
   "outputs": [
    {
     "ename": "TypeError",
     "evalue": "WebElement.get_attribute() missing 1 required positional argument: 'name'",
     "output_type": "error",
     "traceback": [
      "\u001b[1;31m---------------------------------------------------------------------------\u001b[0m",
      "\u001b[1;31mTypeError\u001b[0m                                 Traceback (most recent call last)",
      "Cell \u001b[1;32mIn[40], line 1\u001b[0m\n\u001b[1;32m----> 1\u001b[0m \u001b[43mphone_or_username\u001b[49m\u001b[38;5;241;43m.\u001b[39;49m\u001b[43mget_attribute\u001b[49m\u001b[43m(\u001b[49m\u001b[43m)\u001b[49m\n",
      "\u001b[1;31mTypeError\u001b[0m: WebElement.get_attribute() missing 1 required positional argument: 'name'"
     ]
    }
   ],
   "source": [
    "phone_or_username.send"
   ]
  },
  {
   "cell_type": "markdown",
   "id": "091dafd2",
   "metadata": {},
   "source": [
    "## PASSWORD"
   ]
  },
  {
   "cell_type": "code",
   "execution_count": 9,
   "id": "6e23de1a",
   "metadata": {},
   "outputs": [],
   "source": [
    "password = driver.find_element(By.XPATH, \"//input[@name='password']\")"
   ]
  },
  {
   "cell_type": "code",
   "execution_count": 10,
   "id": "d48bfd43",
   "metadata": {},
   "outputs": [],
   "source": [
    "password.send_keys(PASSWORD)"
   ]
  },
  {
   "cell_type": "code",
   "execution_count": 11,
   "id": "6fbb8c4e",
   "metadata": {},
   "outputs": [],
   "source": [
    "driver.find_element(By.XPATH, \"//div[@data-testid='LoginForm_Login_Button']\").click()"
   ]
  },
  {
   "cell_type": "markdown",
   "id": "7a8ae882",
   "metadata": {},
   "source": [
    "## IF THER IS PAGE LOADED BEFORE LOAD A HOME PAGE\n",
    "use try except to handle"
   ]
  },
  {
   "cell_type": "code",
   "execution_count": 82,
   "id": "5447b534",
   "metadata": {},
   "outputs": [],
   "source": [
    "before_home = driver.find_element(By.XPATH, \"//div[@data-testid='sheetDialog']\")"
   ]
  },
  {
   "cell_type": "code",
   "execution_count": 83,
   "id": "c5b5aa8c",
   "metadata": {},
   "outputs": [
    {
     "data": {
      "text/plain": [
       "<selenium.webdriver.remote.webelement.WebElement (session=\"f803763349e6bf1deddcfe0d7d7818ae\", element=\"EB185E0B651088F775A239E46B31E3CA_element_61\")>"
      ]
     },
     "execution_count": 83,
     "metadata": {},
     "output_type": "execute_result"
    }
   ],
   "source": [
    "before_home"
   ]
  },
  {
   "cell_type": "code",
   "execution_count": 84,
   "id": "ae263ff2",
   "metadata": {},
   "outputs": [],
   "source": [
    "button_close_before_home = driver.find_element(By.XPATH, \"//div[@data-testid='app-bar-close']\").click()"
   ]
  },
  {
   "cell_type": "markdown",
   "id": "b613b0d0",
   "metadata": {},
   "source": [
    "## SEARCH FOR TEXT (IF THERE IS SEARCH BAR)"
   ]
  },
  {
   "cell_type": "code",
   "execution_count": 14,
   "id": "12bcf18c",
   "metadata": {},
   "outputs": [],
   "source": [
    "driver.get(\"https://twitter.com/explore\")"
   ]
  },
  {
   "cell_type": "markdown",
   "id": "804854d4",
   "metadata": {},
   "source": [
    "## SEARCH FOR TEXT (IF FULL SIZE WINDOW)"
   ]
  },
  {
   "cell_type": "code",
   "execution_count": 12,
   "id": "cdb56a65",
   "metadata": {},
   "outputs": [],
   "source": [
    "search_box = driver.find_element(By.XPATH, \"//input[@data-testid='SearchBox_Search_Input']\")"
   ]
  },
  {
   "cell_type": "markdown",
   "id": "6b74071a",
   "metadata": {},
   "source": [
    "## SEARCH BOX"
   ]
  },
  {
   "cell_type": "markdown",
   "id": "d24959db",
   "metadata": {},
   "source": [
    "#Pemilu2024 <br>\n",
    "#Pilpres2024 <br>\n",
    "#Capres2024 <br>\n",
    "#PemiluSerentak2024 <br>\n",
    "#Pemilu2024SesuaiTahapan"
   ]
  },
  {
   "cell_type": "code",
   "execution_count": 13,
   "id": "103373a9",
   "metadata": {},
   "outputs": [],
   "source": [
    "search_box.send_keys(\"#Pemilu2024\")"
   ]
  },
  {
   "cell_type": "code",
   "execution_count": 14,
   "id": "ceabbeb3",
   "metadata": {},
   "outputs": [],
   "source": [
    "search_box.submit()"
   ]
  },
  {
   "cell_type": "markdown",
   "id": "9c7c9004",
   "metadata": {},
   "source": [
    "## SCROLLING AND GET ALL LINK"
   ]
  },
  {
   "cell_type": "code",
   "execution_count": 101,
   "id": "75e2bce4",
   "metadata": {},
   "outputs": [],
   "source": [
    "TOTAL_DATA = 50"
   ]
  },
  {
   "cell_type": "code",
   "execution_count": 102,
   "id": "027e0d07",
   "metadata": {},
   "outputs": [],
   "source": [
    "TWEET_LIST = []"
   ]
  },
  {
   "cell_type": "code",
   "execution_count": 39,
   "id": "d88f0882",
   "metadata": {},
   "outputs": [
    {
     "name": "stdout",
     "output_type": "stream",
     "text": [
      "Finished in =  4.662005\n"
     ]
    }
   ],
   "source": [
    "initialScroll = 0\n",
    "finalScroll = 1000\n",
    "\n",
    "pattern = re.compile(r'href=\"/[A-Za-z0-9_]*/status/\\d+\"')\n",
    "start = datetime.now()\n",
    "\n",
    "count = 0\n",
    "\n",
    "while True:\n",
    "    tweets = pattern.findall(driver.page_source)\n",
    "    \n",
    "    [TWEET_LIST.append(tweet) for tweet in tweets if tweet not in TWEET_LIST]\n",
    "    \n",
    "    # scroll page\n",
    "    driver.execute_script(f\"window.scrollTo({initialScroll},{finalScroll})\")\n",
    "    initialScroll = finalScroll\n",
    "    finalScroll += 1000\n",
    "    \n",
    "    count += 1\n",
    "    print(f\"Ini loop ke-{count}\", end=\"\\r\")\n",
    "    \n",
    "    if len(TWEET_LIST) >= TOTAL_DATA:\n",
    "        break\n",
    "        \n",
    "time_report = datetime.now() - start\n",
    "print(\"Finished in = \", time_report.total_seconds())"
   ]
  },
  {
   "cell_type": "markdown",
   "id": "0ef95c8e",
   "metadata": {},
   "source": [
    "## SCROLLING AND EXTRACTING DATA"
   ]
  },
  {
   "cell_type": "code",
   "execution_count": 15,
   "id": "5c7ecf0a",
   "metadata": {},
   "outputs": [],
   "source": [
    "page = driver.page_source"
   ]
  },
  {
   "cell_type": "code",
   "execution_count": 16,
   "id": "70bbb66d",
   "metadata": {},
   "outputs": [],
   "source": [
    "page_soup = BeautifulSoup(page, \"lxml\")"
   ]
  },
  {
   "cell_type": "code",
   "execution_count": 17,
   "id": "e7bc0f9f",
   "metadata": {},
   "outputs": [],
   "source": [
    "# get loaded article in single page\n",
    "article = page_soup.find_all(\"article\")"
   ]
  },
  {
   "cell_type": "markdown",
   "id": "0cde67be",
   "metadata": {},
   "source": [
    "### GET ACCOUNT DETAIL\n",
    "- Account Name\n",
    "- Account User Name\n",
    "- Account URL"
   ]
  },
  {
   "cell_type": "code",
   "execution_count": 18,
   "id": "b88260e1",
   "metadata": {},
   "outputs": [],
   "source": [
    "# get account detail (Account Name, Account Username, Account URL)\n",
    "account_detail = article[0].find(\"div\", {\"data-testid\": \"User-Name\"})"
   ]
  },
  {
   "cell_type": "code",
   "execution_count": 19,
   "id": "38800c61",
   "metadata": {},
   "outputs": [],
   "source": [
    "account_tag = account_detail.find_all(\"a\", {\"role\": \"link\"})"
   ]
  },
  {
   "cell_type": "code",
   "execution_count": 20,
   "id": "b61edb01",
   "metadata": {},
   "outputs": [],
   "source": [
    "account_name = account_tag[0].text\n",
    "account_username = account_tag[1].text\n",
    "account_url = account_tag[0][\"href\"]"
   ]
  },
  {
   "cell_type": "code",
   "execution_count": 21,
   "id": "d1c252a2",
   "metadata": {},
   "outputs": [
    {
     "data": {
      "text/plain": [
       "('Okezone', '@okezonenews', '/okezonenews')"
      ]
     },
     "execution_count": 21,
     "metadata": {},
     "output_type": "execute_result"
    }
   ],
   "source": [
    "account_name, account_username, account_url"
   ]
  },
  {
   "cell_type": "markdown",
   "id": "d6884a0f",
   "metadata": {},
   "source": [
    "### GET TWEET POST\n",
    "- Post Link\n",
    "- Post Text (Raw)\n",
    "- Post Image\n",
    "- Post Video\n",
    "- Retweeted Link\n",
    "- Total Comment\n",
    "- Total Retweet\n",
    "- Total Like\n",
    "- Total View"
   ]
  },
  {
   "cell_type": "markdown",
   "id": "66630231",
   "metadata": {},
   "source": [
    "#### 1. POST LINK"
   ]
  },
  {
   "cell_type": "code",
   "execution_count": 22,
   "id": "450b8dad",
   "metadata": {},
   "outputs": [],
   "source": [
    "post_link_pattern = re.compile(r'href=\"/[A-Za-z0-9_]*/status/\\d+\"')"
   ]
  },
  {
   "cell_type": "code",
   "execution_count": 23,
   "id": "3ad21d8d",
   "metadata": {},
   "outputs": [],
   "source": [
    "post_link = post_link_pattern.findall(str(article[0]))"
   ]
  },
  {
   "cell_type": "code",
   "execution_count": 26,
   "id": "0ea28914",
   "metadata": {
    "scrolled": true
   },
   "outputs": [],
   "source": [
    "post_link = post_link[0].replace(\"href=\", \"\").replace('\"', \"\")"
   ]
  },
  {
   "cell_type": "code",
   "execution_count": 27,
   "id": "48eaedc0",
   "metadata": {},
   "outputs": [
    {
     "data": {
      "text/plain": [
       "'/okezonenews/status/1672992971363602434'"
      ]
     },
     "execution_count": 27,
     "metadata": {},
     "output_type": "execute_result"
    }
   ],
   "source": [
    "post_link"
   ]
  },
  {
   "cell_type": "markdown",
   "id": "47f81567",
   "metadata": {},
   "source": [
    "#### 2. POST TEXT"
   ]
  },
  {
   "cell_type": "code",
   "execution_count": 28,
   "id": "3011205c",
   "metadata": {},
   "outputs": [],
   "source": [
    "post = article[0].find(\"div\", {\"data-testid\": \"tweetText\"})\n",
    "tweet_text = post.get_text()"
   ]
  },
  {
   "cell_type": "code",
   "execution_count": 29,
   "id": "66e80862",
   "metadata": {
    "scrolled": true
   },
   "outputs": [
    {
     "data": {
      "text/plain": [
       "'Repost dari @partaiperindo  Puluhan emak-emak di RW 5 Kelurahan Manggarai, Jaksel penuh semangat mengikuti kegiatan silatirahmi bersama Diska Resha Putra.  #PerindoUpdate #PartaiPerindo #Perindo #PerindoS16AP #PartaiPersatuanIndonesia #UntukIndonesiaSejahtera #Pemilu2024'"
      ]
     },
     "execution_count": 29,
     "metadata": {},
     "output_type": "execute_result"
    }
   ],
   "source": [
    "tweet_text.replace(\"\\n\", \" \")"
   ]
  },
  {
   "cell_type": "markdown",
   "id": "7d8c245b",
   "metadata": {},
   "source": [
    "#### 3. POST IMAGE OR VIDEO THUMBNAIL"
   ]
  },
  {
   "cell_type": "code",
   "execution_count": 30,
   "id": "cc606acf",
   "metadata": {},
   "outputs": [],
   "source": [
    "image = article[0].find(\"img\", {\"alt\": \"Embedded video\"})"
   ]
  },
  {
   "cell_type": "code",
   "execution_count": 31,
   "id": "3fe916af",
   "metadata": {},
   "outputs": [
    {
     "data": {
      "text/plain": [
       "'https://pbs.twimg.com/amplify_video_thumb/1672992808737853447/img/OytID20V1kEUtO4E?format=jpg&name=medium'"
      ]
     },
     "execution_count": 31,
     "metadata": {},
     "output_type": "execute_result"
    }
   ],
   "source": [
    "image[\"src\"]"
   ]
  },
  {
   "cell_type": "code",
   "execution_count": 50,
   "id": "86df1842",
   "metadata": {},
   "outputs": [
    {
     "data": {
      "text/plain": [
       "<Response [200]>"
      ]
     },
     "execution_count": 50,
     "metadata": {},
     "output_type": "execute_result"
    }
   ],
   "source": [
    "requests.get(image[\"src\"])"
   ]
  },
  {
   "cell_type": "markdown",
   "id": "c6fd8017",
   "metadata": {},
   "source": [
    "#### 4. Post Video\n",
    "https://github.com/h4ckninja/twitter-video-downloader/blob/master/twitter-dl.py"
   ]
  },
  {
   "cell_type": "code",
   "execution_count": 32,
   "id": "c45cacae",
   "metadata": {},
   "outputs": [],
   "source": [
    "tweet_request = requests.Session()"
   ]
  },
  {
   "cell_type": "markdown",
   "id": "1814ba59",
   "metadata": {},
   "source": [
    "###### - BEAREAR TOKEN"
   ]
  },
  {
   "cell_type": "code",
   "execution_count": 33,
   "id": "99465dc1",
   "metadata": {},
   "outputs": [
    {
     "data": {
      "text/plain": [
       "'https://twitter.com/i/videos/tweet/1672992971363602434'"
      ]
     },
     "execution_count": 33,
     "metadata": {},
     "output_type": "execute_result"
    }
   ],
   "source": [
    "tweet_video_url = \"https://twitter.com/i/videos/tweet/\" + post_link.split(\"/\")[-1]\n",
    "tweet_video_url"
   ]
  },
  {
   "cell_type": "code",
   "execution_count": 34,
   "id": "b7943b07",
   "metadata": {},
   "outputs": [
    {
     "data": {
      "text/plain": [
       "'  <!DOCTYPE html>\\n<html>\\n<head>\\n  <style>\\n    body, html {\\n      margin: 0;\\n      padding: 0;\\n    }\\n\\n    #video {\\n      position: absolute;\\n      top: 0;\\n      bottom: 0;\\n      left: 0;\\n      right: 0;\\n    }\\n  </style>\\n</head>\\n<body>\\n  <div id=\"video\"></div>\\n    <script src=\"https://abs.twimg.com/web-video-player/TwitterVideoPlayerIframe.cefd459559024bfb.js\"></script>\\n</body>\\n</html>\\n\\n'"
      ]
     },
     "execution_count": 34,
     "metadata": {},
     "output_type": "execute_result"
    }
   ],
   "source": [
    "video_player_response = tweet_request.get(tweet_video_url).text\n",
    "video_player_response"
   ]
  },
  {
   "cell_type": "code",
   "execution_count": 35,
   "id": "d714bc9c",
   "metadata": {},
   "outputs": [
    {
     "data": {
      "text/plain": [
       "'https://abs.twimg.com/web-video-player/TwitterVideoPlayerIframe.cefd459559024bfb.js'"
      ]
     },
     "execution_count": 35,
     "metadata": {},
     "output_type": "execute_result"
    }
   ],
   "source": [
    "js_file_url  = re.findall('src=\"(.*js)', video_player_response)[0]\n",
    "js_file_url"
   ]
  },
  {
   "cell_type": "code",
   "execution_count": 36,
   "id": "f6da2929",
   "metadata": {},
   "outputs": [],
   "source": [
    "js_file_response = tweet_request.get(js_file_url).text"
   ]
  },
  {
   "cell_type": "code",
   "execution_count": 37,
   "id": "841d68d9",
   "metadata": {},
   "outputs": [
    {
     "data": {
      "text/plain": [
       "'Bearer AAAAAAAAAAAAAAAAAAAAAIK1zgAAAAAA2tUWuhGZ2JceoId5GwYWU5GspY4%3DUq7gzFoCZs1QfwGoVdvSac3IniczZEYXIcDyumCauIXpcAPorE'"
      ]
     },
     "execution_count": 37,
     "metadata": {},
     "output_type": "execute_result"
    }
   ],
   "source": [
    "bearer_token_pattern = re.compile('Bearer ([a-zA-Z0-9%-])+')\n",
    "bearer_token = bearer_token_pattern.search(js_file_response)\n",
    "bearer_token = bearer_token.group(0)\n",
    "bearer_token"
   ]
  },
  {
   "cell_type": "code",
   "execution_count": 38,
   "id": "0db10159",
   "metadata": {},
   "outputs": [],
   "source": [
    "tweet_request.headers.update({'Authorization': bearer_token})"
   ]
  },
  {
   "cell_type": "markdown",
   "id": "20b20a16",
   "metadata": {},
   "source": [
    "###### - PLAYLIST"
   ]
  },
  {
   "cell_type": "code",
   "execution_count": 39,
   "id": "5eebf9e6",
   "metadata": {},
   "outputs": [],
   "source": [
    "video_api = \"https://api.twitter.com/1.1/videos/tweet/config/\""
   ]
  },
  {
   "cell_type": "code",
   "execution_count": 40,
   "id": "69e0a8b8",
   "metadata": {},
   "outputs": [],
   "source": [
    "player_config_req = tweet_request.get(video_api + post_link.split(\"/\")[-1] + '.json')"
   ]
  },
  {
   "cell_type": "code",
   "execution_count": 41,
   "id": "a629c286",
   "metadata": {},
   "outputs": [],
   "source": [
    "player_config = json.loads(player_config_req.text)"
   ]
  },
  {
   "cell_type": "code",
   "execution_count": 42,
   "id": "96aee719",
   "metadata": {
    "scrolled": true
   },
   "outputs": [
    {
     "data": {
      "text/plain": [
       "{'track': {'contentType': 'media_entity',\n",
       "  'publisherId': '47274731',\n",
       "  'contentId': '1672992808737853447',\n",
       "  'durationMs': 40703,\n",
       "  'playbackUrl': 'https://video.twimg.com/amplify_video/1672992808737853447/pl/U0TKUD3U_vcAXKHX.m3u8?tag=14&container=fmp4',\n",
       "  'playbackType': 'application/x-mpegURL',\n",
       "  'expandedUrl': 'https://twitter.com/okezonenews/status/1672992971363602434/video/1',\n",
       "  'vmapUrl': None,\n",
       "  'cta': None,\n",
       "  'shouldLoop': False,\n",
       "  'viewCount': '77',\n",
       "  'isEventGeoblocked': False,\n",
       "  'is360': False,\n",
       "  'mediaAvailability': {'status': 'available', 'reason': None}},\n",
       " 'posterImage': 'https://pbs.twimg.com/amplify_video_thumb/1672992808737853447/img/OytID20V1kEUtO4E.jpg',\n",
       " 'features': {'isEdgeEnabled': True,\n",
       "  'bitrateCap': None,\n",
       "  'isDebuggingEnabled': False,\n",
       "  'fatalErrorRetryMax': 3.0,\n",
       "  'isLiveTimecodeEnabled': True,\n",
       "  'isClientMediaEventScribingEnabled': True},\n",
       " 'translations': {'Watch now at %{hostname}': 'Watch now at %{hostname}',\n",
       "  'We cannot play the video in this browser.  Please try a different web browser or <a href=\"https://t.co/livevideobrowsers\" style=\"color: #1DA1F2\" target=\"_blank\">update your cookie settings.</a>': 'We cannot play the video in this browser.  Please try a different web browser or <a href=\"https://t.co/livevideobrowsers\" style=\"color: #1DA1F2\" target=\"_blank\">update your cookie settings.</a>',\n",
       "  'This video is not available in your location.': 'This video is not available in your location.',\n",
       "  'Visit %{hostname}': 'Visit %{hostname}',\n",
       "  'Playing this requires cookies from another Twitter domain (twimg.com). Allowing this briefly opens a new window and sets the cookie necessary to view this video. <a href=\"https://t.co/livevideobrowsers\" style=\"color: #1DA1F2\" target=\"_blank\">Learn more</a>': 'Playing this requires cookies from another Twitter domain (twimg.com). Allowing this briefly opens a new window and sets the cookie necessary to view this video. <a href=\"https://t.co/livevideobrowsers\" style=\"color: #1DA1F2\" target=\"_blank\">Learn more</a>',\n",
       "  'The media could not be played.': 'The media could not be played.',\n",
       "  'View on Periscope with hearts and chats': 'View on Periscope with hearts and chats',\n",
       "  'Sorry, this video is restricted in certain areas, please wait a few seconds as we acquire your location. Make sure to enable location settings in your browser.': 'Sorry, this video is restricted in certain areas, please wait a few seconds as we acquire your location. Make sure to enable location settings in your browser.',\n",
       "  'Allow': 'Allow',\n",
       "  'Ad': 'Ad',\n",
       "  'Ad by %{advertiserName}': 'Ad by %{advertiserName}',\n",
       "  'Copy Video Address': 'Copy Video Address',\n",
       "  'Ad · %{timeRemaining}': 'Ad · %{timeRemaining}',\n",
       "  'This broadcast is not available in your location.': 'This broadcast is not available in your location.',\n",
       "  'This media has been disabled in response to a report by the copyright owner': 'This media has been disabled in response to a report by the copyright owner',\n",
       "  'LIVE': 'LIVE',\n",
       "  'This broadcast is not available.': 'This broadcast is not available.',\n",
       "  'Video not available due to a copyright claim by %{holder}': 'Video not available due to a copyright claim by %{holder}',\n",
       "  'This broadcast has ended.': 'This broadcast has ended.',\n",
       "  'We cannot play the video in this browser.  Please try a different web browser.': 'We cannot play the video in this browser.  Please try a different web browser.',\n",
       "  '%{viewCount} views': '%{viewCount} views',\n",
       "  'Skip': 'Skip',\n",
       "  'This video has been deleted.': 'This video has been deleted.',\n",
       "  '%{viewerCount} viewers': '%{viewerCount} viewers',\n",
       "  'Ad by %{advertiserName} · %{timeRemaining}': 'Ad by %{advertiserName} · %{timeRemaining}'}}"
      ]
     },
     "execution_count": 42,
     "metadata": {},
     "output_type": "execute_result"
    }
   ],
   "source": [
    "player_config"
   ]
  },
  {
   "cell_type": "code",
   "execution_count": 43,
   "id": "adcf122c",
   "metadata": {},
   "outputs": [],
   "source": [
    "m3u8_url = player_config['track']['playbackUrl']"
   ]
  },
  {
   "cell_type": "code",
   "execution_count": 44,
   "id": "280f02b5",
   "metadata": {},
   "outputs": [],
   "source": [
    "m3u8_response = tweet_request.get(m3u8_url)"
   ]
  },
  {
   "cell_type": "code",
   "execution_count": 45,
   "id": "f7a70997",
   "metadata": {},
   "outputs": [],
   "source": [
    "m3u8_url_parse = urllib.parse.urlparse(m3u8_url)"
   ]
  },
  {
   "cell_type": "code",
   "execution_count": 46,
   "id": "4e6516ac",
   "metadata": {},
   "outputs": [],
   "source": [
    "video_host = m3u8_url_parse.scheme + '://' + m3u8_url_parse.hostname\n",
    "m3u8_parse = m3u8.loads(m3u8_response.text)"
   ]
  },
  {
   "cell_type": "code",
   "execution_count": 47,
   "id": "82d3bd24",
   "metadata": {},
   "outputs": [
    {
     "data": {
      "text/plain": [
       "('https://video.twimg.com', <m3u8.model.M3U8 at 0x242bdff81f0>)"
      ]
     },
     "execution_count": 47,
     "metadata": {},
     "output_type": "execute_result"
    }
   ],
   "source": [
    "video_host, m3u8_parse"
   ]
  },
  {
   "cell_type": "markdown",
   "id": "ac3527dc",
   "metadata": {},
   "source": [
    "###### - PLAYLIST EXTRACTOR"
   ]
  },
  {
   "cell_type": "code",
   "execution_count": 48,
   "id": "1bd8f76f",
   "metadata": {},
   "outputs": [],
   "source": [
    "video_host, playlist = video_host, m3u8_parse\n",
    "storage = os.path.join(os.getcwd(), \"video\")"
   ]
  },
  {
   "cell_type": "code",
   "execution_count": 52,
   "id": "6ed2f284",
   "metadata": {},
   "outputs": [
    {
     "name": "stdout",
     "output_type": "stream",
     "text": [
      "[+] Downloading 320x568\n",
      "\t[*] Doing the magic ...\n"
     ]
    },
    {
     "ename": "FileNotFoundError",
     "evalue": "[WinError 2] The system cannot find the file specified",
     "output_type": "error",
     "traceback": [
      "\u001b[1;31m---------------------------------------------------------------------------\u001b[0m",
      "\u001b[1;31mFileNotFoundError\u001b[0m                         Traceback (most recent call last)",
      "Cell \u001b[1;32mIn[52], line 51\u001b[0m\n\u001b[0;32m     37\u001b[0m     \u001b[38;5;28mprint\u001b[39m(\u001b[38;5;124m'\u001b[39m\u001b[38;5;130;01m\\t\u001b[39;00m\u001b[38;5;124m[*] Doing the magic ...\u001b[39m\u001b[38;5;124m'\u001b[39m)\n\u001b[0;32m     38\u001b[0m     ffmpeg_tweet \u001b[38;5;241m=\u001b[39m (\n\u001b[0;32m     39\u001b[0m         FFmpeg()\n\u001b[0;32m     40\u001b[0m         \u001b[38;5;241m.\u001b[39moption(\u001b[38;5;124m\"\u001b[39m\u001b[38;5;124my\u001b[39m\u001b[38;5;124m\"\u001b[39m)\n\u001b[1;32m   (...)\u001b[0m\n\u001b[0;32m     48\u001b[0m         )\n\u001b[0;32m     49\u001b[0m     )\n\u001b[1;32m---> 51\u001b[0m     \u001b[43mffmpeg_tweet\u001b[49m\u001b[38;5;241;43m.\u001b[39;49m\u001b[43mexecute\u001b[49m\u001b[43m(\u001b[49m\u001b[43m)\u001b[49m\n\u001b[0;32m     53\u001b[0m \u001b[38;5;28mprint\u001b[39m(\u001b[38;5;124m'\u001b[39m\u001b[38;5;130;01m\\t\u001b[39;00m\u001b[38;5;124m[+] Doing cleanup\u001b[39m\u001b[38;5;124m'\u001b[39m)\n\u001b[0;32m     55\u001b[0m \u001b[38;5;28;01mfor\u001b[39;00m ts \u001b[38;5;129;01min\u001b[39;00m ts_list:\n",
      "File \u001b[1;32m~\\miniconda3\\envs\\scrapping\\lib\\site-packages\\ffmpeg\\ffmpeg.py:119\u001b[0m, in \u001b[0;36mFFmpeg.execute\u001b[1;34m(self, stream)\u001b[0m\n\u001b[0;32m    116\u001b[0m arguments \u001b[38;5;241m=\u001b[39m [\u001b[38;5;28mself\u001b[39m\u001b[38;5;241m.\u001b[39m_executable, \u001b[38;5;241m*\u001b[39m\u001b[38;5;28mself\u001b[39m\u001b[38;5;241m.\u001b[39m_options\u001b[38;5;241m.\u001b[39mbuild()]\n\u001b[0;32m    117\u001b[0m \u001b[38;5;28mself\u001b[39m\u001b[38;5;241m.\u001b[39memit(\u001b[38;5;124m\"\u001b[39m\u001b[38;5;124mstart\u001b[39m\u001b[38;5;124m\"\u001b[39m, arguments)\n\u001b[1;32m--> 119\u001b[0m \u001b[38;5;28mself\u001b[39m\u001b[38;5;241m.\u001b[39m_process \u001b[38;5;241m=\u001b[39m \u001b[43mcreate_subprocess\u001b[49m\u001b[43m(\u001b[49m\n\u001b[0;32m    120\u001b[0m \u001b[43m    \u001b[49m\u001b[43marguments\u001b[49m\u001b[43m,\u001b[49m\n\u001b[0;32m    121\u001b[0m \u001b[43m    \u001b[49m\u001b[43mbufsize\u001b[49m\u001b[38;5;241;43m=\u001b[39;49m\u001b[38;5;241;43m0\u001b[39;49m\u001b[43m,\u001b[49m\n\u001b[0;32m    122\u001b[0m \u001b[43m    \u001b[49m\u001b[43mstdin\u001b[49m\u001b[38;5;241;43m=\u001b[39;49m\u001b[43msubprocess\u001b[49m\u001b[38;5;241;43m.\u001b[39;49m\u001b[43mPIPE\u001b[49m\u001b[43m \u001b[49m\u001b[38;5;28;43;01mif\u001b[39;49;00m\u001b[43m \u001b[49m\u001b[43mstream\u001b[49m\u001b[43m \u001b[49m\u001b[38;5;129;43;01mis\u001b[39;49;00m\u001b[43m \u001b[49m\u001b[38;5;129;43;01mnot\u001b[39;49;00m\u001b[43m \u001b[49m\u001b[38;5;28;43;01mNone\u001b[39;49;00m\u001b[43m \u001b[49m\u001b[38;5;28;43;01melse\u001b[39;49;00m\u001b[43m \u001b[49m\u001b[38;5;28;43;01mNone\u001b[39;49;00m\u001b[43m,\u001b[49m\n\u001b[0;32m    123\u001b[0m \u001b[43m    \u001b[49m\u001b[43mstdout\u001b[49m\u001b[38;5;241;43m=\u001b[39;49m\u001b[43msubprocess\u001b[49m\u001b[38;5;241;43m.\u001b[39;49m\u001b[43mPIPE\u001b[49m\u001b[43m,\u001b[49m\n\u001b[0;32m    124\u001b[0m \u001b[43m    \u001b[49m\u001b[43mstderr\u001b[49m\u001b[38;5;241;43m=\u001b[39;49m\u001b[43msubprocess\u001b[49m\u001b[38;5;241;43m.\u001b[39;49m\u001b[43mPIPE\u001b[49m\u001b[43m,\u001b[49m\n\u001b[0;32m    125\u001b[0m \u001b[43m\u001b[49m\u001b[43m)\u001b[49m\n\u001b[0;32m    127\u001b[0m \u001b[38;5;28mself\u001b[39m\u001b[38;5;241m.\u001b[39m_executed \u001b[38;5;241m=\u001b[39m \u001b[38;5;28;01mTrue\u001b[39;00m\n\u001b[0;32m    129\u001b[0m \u001b[38;5;28;01mwith\u001b[39;00m concurrent\u001b[38;5;241m.\u001b[39mfutures\u001b[38;5;241m.\u001b[39mThreadPoolExecutor(max_workers\u001b[38;5;241m=\u001b[39m\u001b[38;5;241m4\u001b[39m) \u001b[38;5;28;01mas\u001b[39;00m executor:\n",
      "File \u001b[1;32m~\\miniconda3\\envs\\scrapping\\lib\\site-packages\\ffmpeg\\utils.py:36\u001b[0m, in \u001b[0;36mcreate_subprocess\u001b[1;34m(*args, **kwargs)\u001b[0m\n\u001b[0;32m     33\u001b[0m \u001b[38;5;28;01mif\u001b[39;00m is_windows():\n\u001b[0;32m     34\u001b[0m     kwargs[\u001b[38;5;124m\"\u001b[39m\u001b[38;5;124mcreationflags\u001b[39m\u001b[38;5;124m\"\u001b[39m] \u001b[38;5;241m=\u001b[39m subprocess\u001b[38;5;241m.\u001b[39mCREATE_NEW_PROCESS_GROUP  \u001b[38;5;66;03m# type: ignore\u001b[39;00m\n\u001b[1;32m---> 36\u001b[0m \u001b[38;5;28;01mreturn\u001b[39;00m subprocess\u001b[38;5;241m.\u001b[39mPopen(\u001b[38;5;241m*\u001b[39margs, \u001b[38;5;241m*\u001b[39m\u001b[38;5;241m*\u001b[39mkwargs)\n",
      "File \u001b[1;32m~\\miniconda3\\envs\\scrapping\\lib\\subprocess.py:971\u001b[0m, in \u001b[0;36mPopen.__init__\u001b[1;34m(self, args, bufsize, executable, stdin, stdout, stderr, preexec_fn, close_fds, shell, cwd, env, universal_newlines, startupinfo, creationflags, restore_signals, start_new_session, pass_fds, user, group, extra_groups, encoding, errors, text, umask, pipesize)\u001b[0m\n\u001b[0;32m    967\u001b[0m         \u001b[38;5;28;01mif\u001b[39;00m \u001b[38;5;28mself\u001b[39m\u001b[38;5;241m.\u001b[39mtext_mode:\n\u001b[0;32m    968\u001b[0m             \u001b[38;5;28mself\u001b[39m\u001b[38;5;241m.\u001b[39mstderr \u001b[38;5;241m=\u001b[39m io\u001b[38;5;241m.\u001b[39mTextIOWrapper(\u001b[38;5;28mself\u001b[39m\u001b[38;5;241m.\u001b[39mstderr,\n\u001b[0;32m    969\u001b[0m                     encoding\u001b[38;5;241m=\u001b[39mencoding, errors\u001b[38;5;241m=\u001b[39merrors)\n\u001b[1;32m--> 971\u001b[0m     \u001b[38;5;28;43mself\u001b[39;49m\u001b[38;5;241;43m.\u001b[39;49m\u001b[43m_execute_child\u001b[49m\u001b[43m(\u001b[49m\u001b[43margs\u001b[49m\u001b[43m,\u001b[49m\u001b[43m \u001b[49m\u001b[43mexecutable\u001b[49m\u001b[43m,\u001b[49m\u001b[43m \u001b[49m\u001b[43mpreexec_fn\u001b[49m\u001b[43m,\u001b[49m\u001b[43m \u001b[49m\u001b[43mclose_fds\u001b[49m\u001b[43m,\u001b[49m\n\u001b[0;32m    972\u001b[0m \u001b[43m                        \u001b[49m\u001b[43mpass_fds\u001b[49m\u001b[43m,\u001b[49m\u001b[43m \u001b[49m\u001b[43mcwd\u001b[49m\u001b[43m,\u001b[49m\u001b[43m \u001b[49m\u001b[43menv\u001b[49m\u001b[43m,\u001b[49m\n\u001b[0;32m    973\u001b[0m \u001b[43m                        \u001b[49m\u001b[43mstartupinfo\u001b[49m\u001b[43m,\u001b[49m\u001b[43m \u001b[49m\u001b[43mcreationflags\u001b[49m\u001b[43m,\u001b[49m\u001b[43m \u001b[49m\u001b[43mshell\u001b[49m\u001b[43m,\u001b[49m\n\u001b[0;32m    974\u001b[0m \u001b[43m                        \u001b[49m\u001b[43mp2cread\u001b[49m\u001b[43m,\u001b[49m\u001b[43m \u001b[49m\u001b[43mp2cwrite\u001b[49m\u001b[43m,\u001b[49m\n\u001b[0;32m    975\u001b[0m \u001b[43m                        \u001b[49m\u001b[43mc2pread\u001b[49m\u001b[43m,\u001b[49m\u001b[43m \u001b[49m\u001b[43mc2pwrite\u001b[49m\u001b[43m,\u001b[49m\n\u001b[0;32m    976\u001b[0m \u001b[43m                        \u001b[49m\u001b[43merrread\u001b[49m\u001b[43m,\u001b[49m\u001b[43m \u001b[49m\u001b[43merrwrite\u001b[49m\u001b[43m,\u001b[49m\n\u001b[0;32m    977\u001b[0m \u001b[43m                        \u001b[49m\u001b[43mrestore_signals\u001b[49m\u001b[43m,\u001b[49m\n\u001b[0;32m    978\u001b[0m \u001b[43m                        \u001b[49m\u001b[43mgid\u001b[49m\u001b[43m,\u001b[49m\u001b[43m \u001b[49m\u001b[43mgids\u001b[49m\u001b[43m,\u001b[49m\u001b[43m \u001b[49m\u001b[43muid\u001b[49m\u001b[43m,\u001b[49m\u001b[43m \u001b[49m\u001b[43mumask\u001b[49m\u001b[43m,\u001b[49m\n\u001b[0;32m    979\u001b[0m \u001b[43m                        \u001b[49m\u001b[43mstart_new_session\u001b[49m\u001b[43m)\u001b[49m\n\u001b[0;32m    980\u001b[0m \u001b[38;5;28;01mexcept\u001b[39;00m:\n\u001b[0;32m    981\u001b[0m     \u001b[38;5;66;03m# Cleanup if the child failed starting.\u001b[39;00m\n\u001b[0;32m    982\u001b[0m     \u001b[38;5;28;01mfor\u001b[39;00m f \u001b[38;5;129;01min\u001b[39;00m \u001b[38;5;28mfilter\u001b[39m(\u001b[38;5;28;01mNone\u001b[39;00m, (\u001b[38;5;28mself\u001b[39m\u001b[38;5;241m.\u001b[39mstdin, \u001b[38;5;28mself\u001b[39m\u001b[38;5;241m.\u001b[39mstdout, \u001b[38;5;28mself\u001b[39m\u001b[38;5;241m.\u001b[39mstderr)):\n",
      "File \u001b[1;32m~\\miniconda3\\envs\\scrapping\\lib\\subprocess.py:1440\u001b[0m, in \u001b[0;36mPopen._execute_child\u001b[1;34m(self, args, executable, preexec_fn, close_fds, pass_fds, cwd, env, startupinfo, creationflags, shell, p2cread, p2cwrite, c2pread, c2pwrite, errread, errwrite, unused_restore_signals, unused_gid, unused_gids, unused_uid, unused_umask, unused_start_new_session)\u001b[0m\n\u001b[0;32m   1438\u001b[0m \u001b[38;5;66;03m# Start the process\u001b[39;00m\n\u001b[0;32m   1439\u001b[0m \u001b[38;5;28;01mtry\u001b[39;00m:\n\u001b[1;32m-> 1440\u001b[0m     hp, ht, pid, tid \u001b[38;5;241m=\u001b[39m \u001b[43m_winapi\u001b[49m\u001b[38;5;241;43m.\u001b[39;49m\u001b[43mCreateProcess\u001b[49m\u001b[43m(\u001b[49m\u001b[43mexecutable\u001b[49m\u001b[43m,\u001b[49m\u001b[43m \u001b[49m\u001b[43margs\u001b[49m\u001b[43m,\u001b[49m\n\u001b[0;32m   1441\u001b[0m \u001b[43m                             \u001b[49m\u001b[38;5;66;43;03m# no special security\u001b[39;49;00m\n\u001b[0;32m   1442\u001b[0m \u001b[43m                             \u001b[49m\u001b[38;5;28;43;01mNone\u001b[39;49;00m\u001b[43m,\u001b[49m\u001b[43m \u001b[49m\u001b[38;5;28;43;01mNone\u001b[39;49;00m\u001b[43m,\u001b[49m\n\u001b[0;32m   1443\u001b[0m \u001b[43m                             \u001b[49m\u001b[38;5;28;43mint\u001b[39;49m\u001b[43m(\u001b[49m\u001b[38;5;129;43;01mnot\u001b[39;49;00m\u001b[43m \u001b[49m\u001b[43mclose_fds\u001b[49m\u001b[43m)\u001b[49m\u001b[43m,\u001b[49m\n\u001b[0;32m   1444\u001b[0m \u001b[43m                             \u001b[49m\u001b[43mcreationflags\u001b[49m\u001b[43m,\u001b[49m\n\u001b[0;32m   1445\u001b[0m \u001b[43m                             \u001b[49m\u001b[43menv\u001b[49m\u001b[43m,\u001b[49m\n\u001b[0;32m   1446\u001b[0m \u001b[43m                             \u001b[49m\u001b[43mcwd\u001b[49m\u001b[43m,\u001b[49m\n\u001b[0;32m   1447\u001b[0m \u001b[43m                             \u001b[49m\u001b[43mstartupinfo\u001b[49m\u001b[43m)\u001b[49m\n\u001b[0;32m   1448\u001b[0m \u001b[38;5;28;01mfinally\u001b[39;00m:\n\u001b[0;32m   1449\u001b[0m     \u001b[38;5;66;03m# Child is launched. Close the parent's copy of those pipe\u001b[39;00m\n\u001b[0;32m   1450\u001b[0m     \u001b[38;5;66;03m# handles that only the child should have open.  You need\u001b[39;00m\n\u001b[1;32m   (...)\u001b[0m\n\u001b[0;32m   1453\u001b[0m     \u001b[38;5;66;03m# pipe will not close when the child process exits and the\u001b[39;00m\n\u001b[0;32m   1454\u001b[0m     \u001b[38;5;66;03m# ReadFile will hang.\u001b[39;00m\n\u001b[0;32m   1455\u001b[0m     \u001b[38;5;28mself\u001b[39m\u001b[38;5;241m.\u001b[39m_close_pipe_fds(p2cread, p2cwrite,\n\u001b[0;32m   1456\u001b[0m                          c2pread, c2pwrite,\n\u001b[0;32m   1457\u001b[0m                          errread, errwrite)\n",
      "\u001b[1;31mFileNotFoundError\u001b[0m: [WinError 2] The system cannot find the file specified"
     ]
    }
   ],
   "source": [
    "if playlist.is_variant:\n",
    "    \n",
    "    for plist in playlist.playlists:\n",
    "        resolution = str(plist.stream_info.resolution[0]) + 'x' + str(plist.stream_info.resolution[1])\n",
    "        resolution_file = Path(storage) / Path(resolution + '.mp4')\n",
    "\n",
    "        print('[+] Downloading ' + resolution)\n",
    "        \n",
    "        playlist_url = video_host + plist.uri\n",
    "\n",
    "        ts_m3u8_response = tweet_request.get(playlist_url, headers = {'Authorization': None})\n",
    "        ts_m3u8_parse = m3u8.loads(ts_m3u8_response.text)\n",
    "        \n",
    "        ts_list = []\n",
    "        ts_full_file_list = []\n",
    "        \n",
    "        for ts_uri in ts_m3u8_parse.segments.uri:\n",
    "            \n",
    "            ts_file = requests.get(video_host + ts_uri)\n",
    "            fname = ts_uri.split('/')[-1]\n",
    "            \n",
    "            ts_path = Path(storage) / Path(fname)\n",
    "            ts_list.append(ts_path)\n",
    "\n",
    "            ts_path.write_bytes(ts_file.content)\n",
    "            \n",
    "        ts_full_file = Path(storage) / Path(resolution + '.ts')\n",
    "        ts_full_file = str(ts_full_file)\n",
    "        ts_full_file_list.append(ts_full_file)\n",
    "        \n",
    "        with open(str(ts_full_file), 'wb') as wfd:\n",
    "            for f in ts_list:\n",
    "                with open(f, 'rb') as fd:\n",
    "                    shutil.copyfileobj(fd, wfd, 1024 * 1024 * 10)\n",
    "                    \n",
    "        for ts in ts_full_file_list:\n",
    "            print('\\t[*] Doing the magic ...')\n",
    "            ffmpeg_tweet = (\n",
    "                FFmpeg()\n",
    "                .option(\"y\")\n",
    "                .input(ts)\n",
    "                .output(\n",
    "                    str(resolution_file),\n",
    "                    {\"codec:v\": \"libx264\"},\n",
    "                    vf=\"scale=1280:-1\",\n",
    "                    preset=\"veryslow\",\n",
    "                    crf=24,\n",
    "                )\n",
    "            )\n",
    "\n",
    "            ffmpeg_tweet.execute()\n",
    "            \n",
    "        print('\\t[+] Doing cleanup')\n",
    "\n",
    "        for ts in ts_list:\n",
    "            p = Path(ts)\n",
    "            p.unlink()\n",
    "\n",
    "        for ts in ts_full_file_list:\n",
    "            p = Path(ts)\n",
    "            p.unlink()"
   ]
  },
  {
   "cell_type": "markdown",
   "id": "75d8ced5",
   "metadata": {},
   "source": [
    "#### 5. Post Hashtag"
   ]
  },
  {
   "cell_type": "code",
   "execution_count": 56,
   "id": "272ef26e",
   "metadata": {},
   "outputs": [],
   "source": [
    "hashtag_pattern = re.compile(r\"#[a-zA-Z0-9_]+\")"
   ]
  },
  {
   "cell_type": "code",
   "execution_count": 57,
   "id": "05a0ca9f",
   "metadata": {},
   "outputs": [],
   "source": [
    "hashtag_list = hashtag_pattern.findall(tweet_text)"
   ]
  },
  {
   "cell_type": "code",
   "execution_count": 58,
   "id": "92cf7964",
   "metadata": {},
   "outputs": [
    {
     "data": {
      "text/plain": [
       "['#PrabowoUntukIndonesia',\n",
       " '#prabowosubianto',\n",
       " '#Pilpres2024',\n",
       " '#Pemilu2024',\n",
       " '#kedaulatan']"
      ]
     },
     "execution_count": 58,
     "metadata": {},
     "output_type": "execute_result"
    }
   ],
   "source": [
    "hashtag_list"
   ]
  },
  {
   "cell_type": "markdown",
   "id": "d6cdb55e",
   "metadata": {},
   "source": [
    "#### 6. Retweeted Link"
   ]
  },
  {
   "cell_type": "code",
   "execution_count": null,
   "id": "b22887ec",
   "metadata": {},
   "outputs": [],
   "source": []
  },
  {
   "cell_type": "markdown",
   "id": "9bb24c90",
   "metadata": {},
   "source": [
    "#### 7. Total Comments"
   ]
  },
  {
   "cell_type": "code",
   "execution_count": 63,
   "id": "b6ab0d96",
   "metadata": {},
   "outputs": [],
   "source": [
    "reply = article[0].find(\"div\", {\"data-testid\": \"reply\"})"
   ]
  },
  {
   "cell_type": "code",
   "execution_count": 64,
   "id": "46d8291d",
   "metadata": {},
   "outputs": [
    {
     "data": {
      "text/plain": [
       "'10'"
      ]
     },
     "execution_count": 64,
     "metadata": {},
     "output_type": "execute_result"
    }
   ],
   "source": [
    "reply.get_text()"
   ]
  },
  {
   "cell_type": "markdown",
   "id": "0903bde7",
   "metadata": {},
   "source": [
    "#### 8. Total Retweet"
   ]
  },
  {
   "cell_type": "code",
   "execution_count": 60,
   "id": "ea320bd4",
   "metadata": {},
   "outputs": [],
   "source": [
    "retweet = article[0].find(\"div\", {\"data-testid\": \"retweet\"})"
   ]
  },
  {
   "cell_type": "code",
   "execution_count": 62,
   "id": "7f324123",
   "metadata": {},
   "outputs": [
    {
     "data": {
      "text/plain": [
       "'41'"
      ]
     },
     "execution_count": 62,
     "metadata": {},
     "output_type": "execute_result"
    }
   ],
   "source": [
    "retweet.get_text()"
   ]
  },
  {
   "cell_type": "markdown",
   "id": "1ff0c136",
   "metadata": {},
   "source": [
    "#### 9. Total Like"
   ]
  },
  {
   "cell_type": "code",
   "execution_count": 65,
   "id": "4d6a631c",
   "metadata": {},
   "outputs": [],
   "source": [
    "like = article[0].find(\"div\", {\"data-testid\": \"like\"})"
   ]
  },
  {
   "cell_type": "code",
   "execution_count": 66,
   "id": "e470a4ad",
   "metadata": {},
   "outputs": [
    {
     "data": {
      "text/plain": [
       "'33'"
      ]
     },
     "execution_count": 66,
     "metadata": {},
     "output_type": "execute_result"
    }
   ],
   "source": [
    "like.get_text()"
   ]
  },
  {
   "cell_type": "markdown",
   "id": "f8312d39",
   "metadata": {},
   "source": [
    "#### 10. Total View"
   ]
  },
  {
   "cell_type": "code",
   "execution_count": 81,
   "id": "765563ab",
   "metadata": {},
   "outputs": [],
   "source": [
    "view = article[0].find(\"a\", {\"href\": post_link + \"/analytics\"})"
   ]
  },
  {
   "cell_type": "code",
   "execution_count": 82,
   "id": "b66dcd67",
   "metadata": {},
   "outputs": [
    {
     "data": {
      "text/plain": [
       "'515'"
      ]
     },
     "execution_count": 82,
     "metadata": {},
     "output_type": "execute_result"
    }
   ],
   "source": [
    "view.get_text()"
   ]
  },
  {
   "cell_type": "markdown",
   "id": "670f1f3b",
   "metadata": {},
   "source": [
    "#### 11. Post Date"
   ]
  },
  {
   "cell_type": "code",
   "execution_count": 83,
   "id": "d59035ea",
   "metadata": {},
   "outputs": [],
   "source": [
    "post_date = article[0].find(\"a\", {\"href\": post_link})"
   ]
  },
  {
   "cell_type": "code",
   "execution_count": 87,
   "id": "bba249f4",
   "metadata": {},
   "outputs": [],
   "source": [
    "post_date = post_date.find(\"time\")[\"datetime\"]"
   ]
  },
  {
   "cell_type": "code",
   "execution_count": null,
   "id": "70be24bd",
   "metadata": {},
   "outputs": [],
   "source": []
  }
 ],
 "metadata": {
  "kernelspec": {
   "display_name": "Python 3 (ipykernel)",
   "language": "python",
   "name": "python3"
  },
  "language_info": {
   "codemirror_mode": {
    "name": "ipython",
    "version": 3
   },
   "file_extension": ".py",
   "mimetype": "text/x-python",
   "name": "python",
   "nbconvert_exporter": "python",
   "pygments_lexer": "ipython3",
   "version": "3.10.9"
  }
 },
 "nbformat": 4,
 "nbformat_minor": 5
}
